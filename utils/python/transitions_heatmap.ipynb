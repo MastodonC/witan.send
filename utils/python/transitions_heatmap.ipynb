{
 "cells": [
  {
   "cell_type": "code",
   "execution_count": 1,
   "metadata": {},
   "outputs": [],
   "source": [
    "import pandas as pd\n",
    "import seaborn as sns\n",
    "%load_ext autoreload\n",
    "%autoreload 1\n",
    "%aimport tools"
   ]
  },
  {
   "cell_type": "code",
   "execution_count": 2,
   "metadata": {},
   "outputs": [],
   "source": [
    "df = tools.dataframe_from_transitions('/Users/mike/witan.send-runs/mastodonc/demo/results-190718/transitions.edn', 10)"
   ]
  },
  {
   "cell_type": "code",
   "execution_count": 3,
   "metadata": {},
   "outputs": [
    {
     "data": {
      "text/html": [
       "<div>\n",
       "<style scoped>\n",
       "    .dataframe tbody tr th:only-of-type {\n",
       "        vertical-align: middle;\n",
       "    }\n",
       "\n",
       "    .dataframe tbody tr th {\n",
       "        vertical-align: top;\n",
       "    }\n",
       "\n",
       "    .dataframe thead th {\n",
       "        text-align: right;\n",
       "    }\n",
       "</style>\n",
       "<table border=\"1\" class=\"dataframe\">\n",
       "  <thead>\n",
       "    <tr style=\"text-align: right;\">\n",
       "      <th></th>\n",
       "      <th>ay</th>\n",
       "      <th>count</th>\n",
       "      <th>need_1</th>\n",
       "      <th>need_2</th>\n",
       "      <th>setting_1</th>\n",
       "      <th>setting_2</th>\n",
       "      <th>state_1</th>\n",
       "      <th>state_2</th>\n",
       "      <th>year</th>\n",
       "    </tr>\n",
       "  </thead>\n",
       "  <tbody>\n",
       "    <tr>\n",
       "      <th>0</th>\n",
       "      <td>16.0</td>\n",
       "      <td>0.0</td>\n",
       "      <td>CI</td>\n",
       "      <td>NONSEND</td>\n",
       "      <td>EO</td>\n",
       "      <td>NONSEND</td>\n",
       "      <td>CI-EO</td>\n",
       "      <td>NONSEND</td>\n",
       "      <td>2020.0</td>\n",
       "    </tr>\n",
       "    <tr>\n",
       "      <th>1</th>\n",
       "      <td>15.0</td>\n",
       "      <td>0.3</td>\n",
       "      <td>NONSEND</td>\n",
       "      <td>OTH</td>\n",
       "      <td>NONSEND</td>\n",
       "      <td>MSS</td>\n",
       "      <td>NONSEND</td>\n",
       "      <td>OTH-MSS</td>\n",
       "      <td>2019.0</td>\n",
       "    </tr>\n",
       "    <tr>\n",
       "      <th>2</th>\n",
       "      <td>-1.0</td>\n",
       "      <td>0.8</td>\n",
       "      <td>NONSEND</td>\n",
       "      <td>CL</td>\n",
       "      <td>NONSEND</td>\n",
       "      <td>EYS</td>\n",
       "      <td>NONSEND</td>\n",
       "      <td>CL-EYS</td>\n",
       "      <td>2020.0</td>\n",
       "    </tr>\n",
       "    <tr>\n",
       "      <th>3</th>\n",
       "      <td>15.0</td>\n",
       "      <td>0.1</td>\n",
       "      <td>CL</td>\n",
       "      <td>CL</td>\n",
       "      <td>NMSS</td>\n",
       "      <td>OOE</td>\n",
       "      <td>CL-NMSS</td>\n",
       "      <td>CL-OOE</td>\n",
       "      <td>2019.0</td>\n",
       "    </tr>\n",
       "    <tr>\n",
       "      <th>4</th>\n",
       "      <td>12.0</td>\n",
       "      <td>0.2</td>\n",
       "      <td>SEMH</td>\n",
       "      <td>SEMH</td>\n",
       "      <td>MSSOP</td>\n",
       "      <td>FEC</td>\n",
       "      <td>SEMH-MSSOP</td>\n",
       "      <td>SEMH-FEC</td>\n",
       "      <td>2022.0</td>\n",
       "    </tr>\n",
       "  </tbody>\n",
       "</table>\n",
       "</div>"
      ],
      "text/plain": [
       "     ay  count   need_1   need_2 setting_1 setting_2     state_1   state_2  \\\n",
       "0  16.0    0.0       CI  NONSEND        EO   NONSEND       CI-EO   NONSEND   \n",
       "1  15.0    0.3  NONSEND      OTH   NONSEND       MSS     NONSEND   OTH-MSS   \n",
       "2  -1.0    0.8  NONSEND       CL   NONSEND       EYS     NONSEND    CL-EYS   \n",
       "3  15.0    0.1       CL       CL      NMSS       OOE     CL-NMSS    CL-OOE   \n",
       "4  12.0    0.2     SEMH     SEMH     MSSOP       FEC  SEMH-MSSOP  SEMH-FEC   \n",
       "\n",
       "     year  \n",
       "0  2020.0  \n",
       "1  2019.0  \n",
       "2  2020.0  \n",
       "3  2019.0  \n",
       "4  2022.0  "
      ]
     },
     "execution_count": 3,
     "metadata": {},
     "output_type": "execute_result"
    }
   ],
   "source": [
    "df.head()"
   ]
  },
  {
   "cell_type": "code",
   "execution_count": 4,
   "metadata": {},
   "outputs": [],
   "source": [
    "df_2019 = df[df['year'] == 2019]"
   ]
  },
  {
   "cell_type": "code",
   "execution_count": 17,
   "metadata": {},
   "outputs": [
    {
     "data": {
      "text/plain": [
       "<matplotlib.axes._subplots.AxesSubplot at 0x1a1b68ba90>"
      ]
     },
     "execution_count": 17,
     "metadata": {},
     "output_type": "execute_result"
    },
    {
     "data": {
      "image/png": "[encoded data removed]",
      "text/plain": [
       "<Figure size 432x288 with 2 Axes>"
      ]
     },
     "metadata": {},
     "output_type": "display_data"
    }
   ],
   "source": [
    "sns.heatmap(tools.heatmap_pivot(df_2019, 'need_1', 'need_2'), annot=True)\n",
    "#not working correctly - WIP"
   ]
  },
  {
   "cell_type": "code",
   "execution_count": null,
   "metadata": {},
   "outputs": [],
   "source": []
  }
 ],
 "metadata": {
  "kernelspec": {
   "display_name": "Python 3",
   "language": "python",
   "name": "python3"
  },
  "language_info": {
   "codemirror_mode": {
    "name": "ipython",
    "version": 3
   },
   "file_extension": ".py",
   "mimetype": "text/x-python",
   "name": "python",
   "nbconvert_exporter": "python",
   "pygments_lexer": "ipython3",
   "version": "3.6.5"
  }
 },
 "nbformat": 4,
 "nbformat_minor": 2
}
